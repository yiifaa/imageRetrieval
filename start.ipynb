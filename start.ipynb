{
 "cells": [
  {
   "cell_type": "code",
   "execution_count": null,
   "metadata": {},
   "outputs": [],
   "source": [
    "import cv2\n",
    "import numpy as np\n",
    " \n",
    " \n",
    "img = cv2.imread('images/1.png')\n",
    "gray= cv2.cvtColor(img,cv2.COLOR_BGR2GRAY)\n",
    "\n",
    "sift = cv2.xfeatures2d.SIFT_create()\n",
    "kp, des = sift.detectAndCompute(gray, None)\n",
    "# sift = cv2.xfeatures2d.SIFT_create()\n",
    " \n",
    " \n",
    "# kp = sift.detect(gray,None)#找到关键点\n",
    "print(kp)\n",
    "img=cv2.drawKeypoints(gray,kp,img)#绘制关键点\n",
    " \n",
    "cv2.imshow('sp',img)\n",
    "cv2.waitKey(0)"
   ]
  },
  {
   "cell_type": "code",
   "execution_count": 6,
   "metadata": {},
   "outputs": [
    {
     "name": "stdout",
     "output_type": "stream",
     "text": [
      "952\n"
     ]
    }
   ],
   "source": [
    "kp, des = sift.compute(gray, kp)\n",
    "print(len(kp))"
   ]
  },
  {
   "cell_type": "code",
   "execution_count": 9,
   "metadata": {},
   "outputs": [
    {
     "name": "stdout",
     "output_type": "stream",
     "text": [
      "[[  3.   0.   0. ...  13.  22.   0.]\n",
      " [ 10.  13.   2. ...   0.  51. 142.]\n",
      " [  3.   7.   0. ...   0.   0.   0.]\n",
      " ...\n",
      " [134.  19.   0. ...   0.   3.  16.]\n",
      " [ 18.  34.   8. ...   0.   0.   0.]\n",
      " [  1.  64.  72. ...   0.   0.   2.]]\n"
     ]
    }
   ],
   "source": [
    "print(des)"
   ]
  },
  {
   "cell_type": "code",
   "execution_count": null,
   "metadata": {},
   "outputs": [],
   "source": []
  }
 ],
 "metadata": {
  "kernelspec": {
   "display_name": "Python 3",
   "language": "python",
   "name": "python3"
  },
  "language_info": {
   "codemirror_mode": {
    "name": "ipython",
    "version": 3
   },
   "file_extension": ".py",
   "mimetype": "text/x-python",
   "name": "python",
   "nbconvert_exporter": "python",
   "pygments_lexer": "ipython3",
   "version": "3.7.3"
  }
 },
 "nbformat": 4,
 "nbformat_minor": 2
}
